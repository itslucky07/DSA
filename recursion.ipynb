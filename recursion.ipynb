{
  "nbformat": 4,
  "nbformat_minor": 0,
  "metadata": {
    "colab": {
      "provenance": [],
      "authorship_tag": "ABX9TyMe+WtTcWYhg7CR6OA4xmSW",
      "include_colab_link": true
    },
    "kernelspec": {
      "name": "python3",
      "display_name": "Python 3"
    },
    "language_info": {
      "name": "python"
    }
  },
  "cells": [
    {
      "cell_type": "markdown",
      "metadata": {
        "id": "view-in-github",
        "colab_type": "text"
      },
      "source": [
        "<a href=\"https://colab.research.google.com/github/itslucky07/DSA/blob/main/recursion.ipynb\" target=\"_parent\"><img src=\"https://colab.research.google.com/assets/colab-badge.svg\" alt=\"Open In Colab\"/></a>"
      ]
    },
    {
      "cell_type": "code",
      "execution_count": 2,
      "metadata": {
        "id": "R3Dr_kCazzOt"
      },
      "outputs": [],
      "source": [
        " # Sum of digit\n",
        ""
      ]
    },
    {
      "cell_type": "markdown",
      "source": [
        "# sum of digit\n"
      ],
      "metadata": {
        "id": "_MgfY_W-4_Tv"
      }
    },
    {
      "cell_type": "code",
      "source": [
        "def sumOfDigit(n):\n",
        "  assert n >= 0 and int(n) == n, \"The number must be positive integer only\"\n",
        "  if n == 0:\n",
        "    return 0\n",
        "  return int(n%10) + sumOfDigit(int(n/10))\n",
        "print(sumOfDigit(53125))\n"
      ],
      "metadata": {
        "colab": {
          "base_uri": "https://localhost:8080/"
        },
        "id": "Kd7aEqZN0Paa",
        "outputId": "39e69cfc-4150-402c-8693-bfcbc9aa86aa"
      },
      "execution_count": 27,
      "outputs": [
        {
          "output_type": "stream",
          "name": "stdout",
          "text": [
            "16\n"
          ]
        }
      ]
    },
    {
      "cell_type": "code",
      "source": [],
      "metadata": {
        "id": "YQoqDpPz7Rgu"
      },
      "execution_count": null,
      "outputs": []
    }
  ]
}