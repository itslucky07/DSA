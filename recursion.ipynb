{
  "nbformat": 4,
  "nbformat_minor": 0,
  "metadata": {
    "colab": {
      "provenance": [],
      "authorship_tag": "ABX9TyN9nBYckD07/hnfJE10EEl3",
      "include_colab_link": true
    },
    "kernelspec": {
      "name": "python3",
      "display_name": "Python 3"
    },
    "language_info": {
      "name": "python"
    }
  },
  "cells": [
    {
      "cell_type": "markdown",
      "metadata": {
        "id": "view-in-github",
        "colab_type": "text"
      },
      "source": [
        "<a href=\"https://colab.research.google.com/github/itslucky07/DSA/blob/main/recursion.ipynb\" target=\"_parent\"><img src=\"https://colab.research.google.com/assets/colab-badge.svg\" alt=\"Open In Colab\"/></a>"
      ]
    },
    {
      "cell_type": "code",
      "execution_count": null,
      "metadata": {
        "id": "R3Dr_kCazzOt"
      },
      "outputs": [],
      "source": [
        " # Sum of digit\n"
      ]
    },
    {
      "cell_type": "markdown",
      "source": [
        "# sum of digit\n"
      ],
      "metadata": {
        "id": "_MgfY_W-4_Tv"
      }
    },
    {
      "cell_type": "code",
      "source": [
        "def sumOfDigit(n):\n",
        "  assert n >= 0 and int(n) == n, \"The number must be positive integer only\"\n",
        "  if n == 0:\n",
        "    return 0\n",
        "  return int(n%10) + sumOfDigit(int(n/10))\n",
        "print(sumOfDigit(53125))\n"
      ],
      "metadata": {
        "colab": {
          "base_uri": "https://localhost:8080/"
        },
        "id": "Kd7aEqZN0Paa",
        "outputId": "39e69cfc-4150-402c-8693-bfcbc9aa86aa"
      },
      "execution_count": null,
      "outputs": [
        {
          "output_type": "stream",
          "name": "stdout",
          "text": [
            "16\n"
          ]
        }
      ]
    },
    {
      "cell_type": "markdown",
      "source": [
        "# power of number\n"
      ],
      "metadata": {
        "id": "vRil82r28bGD"
      }
    },
    {
      "cell_type": "code",
      "source": [
        "def power(base,exp):\n",
        "  assert exp >= 0 and int(exp) == exp, \"The number must be positive integer only\"\n",
        "  if exp ==0:\n",
        "    return 1\n",
        "  if exp == 1:\n",
        "    return base\n",
        "  return base*power(base,exp-1)\n",
        "\n",
        "power(2.5,4)"
      ],
      "metadata": {
        "id": "YQoqDpPz7Rgu",
        "colab": {
          "base_uri": "https://localhost:8080/"
        },
        "outputId": "b40bb9a0-a84e-4145-9aa7-436bd9c44467"
      },
      "execution_count": 6,
      "outputs": [
        {
          "output_type": "execute_result",
          "data": {
            "text/plain": [
              "39.0625"
            ]
          },
          "metadata": {},
          "execution_count": 6
        }
      ]
    },
    {
      "cell_type": "markdown",
      "source": [
        "# to find thhe gcd (greatest common divisor)  or hcf"
      ],
      "metadata": {
        "id": "QrMtY0XeC3sm"
      }
    },
    {
      "cell_type": "code",
      "source": [
        "def gcd(a,b):\n",
        "  assert int(a) == a and int(b) == b, \"The number must be positive integer only\"\n",
        "  if a < 0:\n",
        "    a = -1 * a\n",
        "  if b < 0:\n",
        "    b = -1 * b\n",
        "\n",
        "  if b == 0:\n",
        "    return a\n",
        "  else:\n",
        "    return gcd(b, a%b)\n",
        "\n",
        "print(gcd(48,18))"
      ],
      "metadata": {
        "id": "Qjun9Qce81yT",
        "colab": {
          "base_uri": "https://localhost:8080/"
        },
        "outputId": "71fc8867-8b05-41f8-ece5-fb2692d10fe8"
      },
      "execution_count": 10,
      "outputs": [
        {
          "output_type": "stream",
          "name": "stdout",
          "text": [
            "6\n"
          ]
        }
      ]
    },
    {
      "cell_type": "markdown",
      "source": [
        "# Decimal to binary\n",
        "\n",
        "\n",
        "divide the number by 2.\n",
        "\n",
        "get the integer quotient for the binary digit.\n",
        "\n",
        "get the remainder for the binary digit\n",
        "\n",
        "repeart the steps until the quotient is equal to zero .\n",
        "  f\n",
        "\n",
        "\n",
        "\n",
        "\n",
        "\n",
        "\n"
      ],
      "metadata": {
        "id": "onYiEZdvE5i1"
      }
    },
    {
      "cell_type": "code",
      "source": [
        "def decimalToBinary(n):\n",
        "  assert int(n) == n, \"The number must be positive integer only\"\n",
        "  if n == 0:\n",
        "    return 0\n",
        "  else:\n",
        "    return n%2 + 10*decimalToBinary(int(n/2))\n",
        "\n",
        "print(decimalToBinary(13))"
      ],
      "metadata": {
        "colab": {
          "base_uri": "https://localhost:8080/"
        },
        "id": "3yzEKWECDNir",
        "outputId": "90951b73-6307-40d7-8795-053671a4d584"
      },
      "execution_count": 13,
      "outputs": [
        {
          "output_type": "stream",
          "name": "stdout",
          "text": [
            "1101\n"
          ]
        }
      ]
    },
    {
      "cell_type": "code",
      "source": [],
      "metadata": {
        "id": "l8-S_HvwHutj"
      },
      "execution_count": null,
      "outputs": []
    }
  ]
}