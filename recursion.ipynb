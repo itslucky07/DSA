{
  "nbformat": 4,
  "nbformat_minor": 0,
  "metadata": {
    "colab": {
      "provenance": [],
      "include_colab_link": true
    },
    "kernelspec": {
      "name": "python3",
      "display_name": "Python 3"
    },
    "language_info": {
      "name": "python"
    }
  },
  "cells": [
    {
      "cell_type": "markdown",
      "metadata": {
        "id": "view-in-github",
        "colab_type": "text"
      },
      "source": [
        "<a href=\"https://colab.research.google.com/github/itslucky07/DSA/blob/main/recursion.ipynb\" target=\"_parent\"><img src=\"https://colab.research.google.com/assets/colab-badge.svg\" alt=\"Open In Colab\"/></a>"
      ]
    },
    {
      "cell_type": "code",
      "execution_count": null,
      "metadata": {
        "id": "R3Dr_kCazzOt"
      },
      "outputs": [],
      "source": [
        " # Sum of digit\n"
      ]
    },
    {
      "cell_type": "markdown",
      "source": [
        "# sum of digit\n"
      ],
      "metadata": {
        "id": "_MgfY_W-4_Tv"
      }
    },
    {
      "cell_type": "code",
      "source": [
        "def sumOfDigit(n):\n",
        "  assert n >= 0 and int(n) == n, \"The number must be positive integer only\"\n",
        "  if n == 0:\n",
        "    return 0\n",
        "  return int(n%10) + sumOfDigit(int(n/10))\n",
        "print(sumOfDigit(53125))\n"
      ],
      "metadata": {
        "colab": {
          "base_uri": "https://localhost:8080/"
        },
        "id": "Kd7aEqZN0Paa",
        "outputId": "39e69cfc-4150-402c-8693-bfcbc9aa86aa"
      },
      "execution_count": null,
      "outputs": [
        {
          "output_type": "stream",
          "name": "stdout",
          "text": [
            "16\n"
          ]
        }
      ]
    },
    {
      "cell_type": "markdown",
      "source": [
        "# power of number\n"
      ],
      "metadata": {
        "id": "vRil82r28bGD"
      }
    },
    {
      "cell_type": "code",
      "source": [
        "def power(base,exp):\n",
        "  assert exp >= 0 and int(exp) == exp, \"The number must be positive integer only\"\n",
        "  if exp ==0:\n",
        "    return 1\n",
        "  if exp == 1:\n",
        "    return base\n",
        "  return base*power(base,exp-1)\n",
        "\n",
        "power(2.5,4)"
      ],
      "metadata": {
        "id": "YQoqDpPz7Rgu",
        "colab": {
          "base_uri": "https://localhost:8080/"
        },
        "outputId": "b40bb9a0-a84e-4145-9aa7-436bd9c44467"
      },
      "execution_count": null,
      "outputs": [
        {
          "output_type": "execute_result",
          "data": {
            "text/plain": [
              "39.0625"
            ]
          },
          "metadata": {},
          "execution_count": 6
        }
      ]
    },
    {
      "cell_type": "markdown",
      "source": [
        "# to find thhe gcd (greatest common divisor)  or hcf"
      ],
      "metadata": {
        "id": "QrMtY0XeC3sm"
      }
    },
    {
      "cell_type": "code",
      "source": [
        "def gcd(a,b):\n",
        "  assert int(a) == a and int(b) == b, \"The number must be positive integer only\"\n",
        "  if a < 0:\n",
        "    a = -1 * a\n",
        "  if b < 0:\n",
        "    b = -1 * b\n",
        "\n",
        "  if b == 0:\n",
        "    return a\n",
        "  else:\n",
        "    return gcd(b, a%b)\n",
        "\n",
        "print(gcd(48,18))"
      ],
      "metadata": {
        "id": "Qjun9Qce81yT",
        "colab": {
          "base_uri": "https://localhost:8080/"
        },
        "outputId": "71fc8867-8b05-41f8-ece5-fb2692d10fe8"
      },
      "execution_count": null,
      "outputs": [
        {
          "output_type": "stream",
          "name": "stdout",
          "text": [
            "6\n"
          ]
        }
      ]
    },
    {
      "cell_type": "markdown",
      "source": [
        "# Decimal to binary\n",
        "\n",
        "\n",
        "divide the number by 2.\n",
        "\n",
        "get the integer quotient for the binary digit.\n",
        "\n",
        "get the remainder for the binary digit\n",
        "\n",
        "repeart the steps until the quotient is equal to zero .\n",
        "  f\n",
        "\n",
        "\n",
        "\n",
        "\n",
        "\n",
        "\n"
      ],
      "metadata": {
        "id": "onYiEZdvE5i1"
      }
    },
    {
      "cell_type": "code",
      "source": [
        "def decimalToBinary(n):\n",
        "  assert int(n) == n, \"The number must be positive integer only\"\n",
        "  if n == 0:\n",
        "    return 0\n",
        "  else:\n",
        "    return n%2 + 10*decimalToBinary(int(n/2))\n",
        "\n",
        "print(decimalToBinary(13))"
      ],
      "metadata": {
        "colab": {
          "base_uri": "https://localhost:8080/"
        },
        "id": "3yzEKWECDNir",
        "outputId": "90951b73-6307-40d7-8795-053671a4d584"
      },
      "execution_count": null,
      "outputs": [
        {
          "output_type": "stream",
          "name": "stdout",
          "text": [
            "1101\n"
          ]
        }
      ]
    },
    {
      "cell_type": "markdown",
      "source": [
        "#capitalizeWords\n"
      ],
      "metadata": {
        "id": "BIC8EIOa3eU8"
      }
    },
    {
      "cell_type": "code",
      "source": [
        "def capitalizeWords(arr):\n",
        "  result = []\n",
        "  if len(arr) == 0:\n",
        "    return result\n",
        "  result.append(arr[0][0].upper() + arr[0][1:])\n",
        "  return result + capitalizeWords(arr[1:])\n",
        "\n",
        "user_input = input(\"Enter a string: \")\n",
        "\n",
        "word = user_input.split()\n",
        "print(capitalizeWords(word))\n"
      ],
      "metadata": {
        "id": "l8-S_HvwHutj",
        "colab": {
          "base_uri": "https://localhost:8080/"
        },
        "outputId": "039a379f-7143-41f6-99d4-80aa394de270"
      },
      "execution_count": 6,
      "outputs": [
        {
          "output_type": "stream",
          "name": "stdout",
          "text": [
            "Enter a string: my self lucky sharma \n",
            "['My', 'Self', 'Lucky', 'Sharma']\n"
          ]
        }
      ]
    },
    {
      "cell_type": "markdown",
      "source": [
        "# int to string"
      ],
      "metadata": {
        "id": "tHOOqX3C6a8p"
      }
    },
    {
      "cell_type": "code",
      "source": [
        "\n",
        "def stringifyNumbers(obj):\n",
        "    newObj = obj\n",
        "    for key in newObj:\n",
        "        if type(newObj[key]) is int:\n",
        "            newObj[key] = str(newObj[key])\n",
        "        if type(newObj[key]) is dict:\n",
        "            newObj[key] = stringifyNumbers(newObj[key])\n",
        "    return newObj\n",
        "\n",
        "\n",
        "\n",
        "obj = {\n",
        "  \"num\": 1,\n",
        "  \"test\": [],\n",
        "  \"data\": {\n",
        "    \"val\": 4,\n",
        "    \"info\": {\n",
        "      \"isRight\": True,\n",
        "      \"random\": 66\n",
        "    }\n",
        "  }\n",
        "}\n",
        "\n",
        "print(stringifyNumbers(obj))\n",
        "\n",
        "{'num': '1',\n",
        " 'test': [],\n",
        " 'data': {'val': '4',\n",
        "          'info': {'isRight': True, 'random': '66'}\n",
        "          }\n",
        "}"
      ],
      "metadata": {
        "colab": {
          "base_uri": "https://localhost:8080/"
        },
        "id": "RUmISaUY6hKJ",
        "outputId": "b6087186-4fe1-40d5-9efc-31c24ee5ac0b"
      },
      "execution_count": null,
      "outputs": [
        {
          "output_type": "stream",
          "name": "stdout",
          "text": [
            "{'num': '1', 'test': [], 'data': {'val': '4', 'info': {'isRight': True, 'random': '66'}}}\n"
          ]
        },
        {
          "output_type": "execute_result",
          "data": {
            "text/plain": [
              "{'num': '1',\n",
              " 'test': [],\n",
              " 'data': {'val': '4', 'info': {'isRight': True, 'random': '66'}}}"
            ]
          },
          "metadata": {},
          "execution_count": 3
        }
      ]
    },
    {
      "cell_type": "markdown",
      "source": [
        "# to collect string"
      ],
      "metadata": {
        "id": "9NsqzCyg7NKu"
      }
    },
    {
      "cell_type": "code",
      "source": [
        "def collectStrings(obj):\n",
        "  result = []\n",
        "  for key in obj:\n",
        "    if type(obj[key]) is str:\n",
        "      result.append(obj[key])\n",
        "    if type(obj[key]) is dict:\n",
        "      result = result + collectStrings(obj[key])\n",
        "  return result\n",
        "\n",
        "obj = {\n",
        "  \"a\": \"hello\",\n",
        "  \"b\": 42,\n",
        "  \"c\": {\n",
        "    \"d\": \"world\",\n",
        "    \"e\": {\n",
        "      \"f\": \"python\"\n",
        "    }\n",
        "  }\n",
        "}\n",
        "\n",
        "print(collectStrings(obj))"
      ],
      "metadata": {
        "colab": {
          "base_uri": "https://localhost:8080/"
        },
        "id": "oU-ex8PH7Pdd",
        "outputId": "058d9f45-bfd3-4df6-a2d4-e4bdcf501cd8"
      },
      "execution_count": null,
      "outputs": [
        {
          "output_type": "stream",
          "name": "stdout",
          "text": [
            "['hello', 'world', 'python']\n"
          ]
        }
      ]
    },
    {
      "cell_type": "markdown",
      "source": [
        "# product Of Array"
      ],
      "metadata": {
        "id": "R9u4WAWK9vbc"
      }
    },
    {
      "cell_type": "code",
      "source": [
        "def productOfArray(arr):\n",
        "  if len(arr)==0:\n",
        "    return 1\n",
        "  return arr[0]*productOfArray(arr[1:])\n",
        "arr = [1,2,3]\n",
        "print(productOfArray(arr))"
      ],
      "metadata": {
        "colab": {
          "base_uri": "https://localhost:8080/"
        },
        "id": "sisxA6Lb9zN4",
        "outputId": "65a04d7b-687f-45ec-eae9-e08b177ddcb1"
      },
      "execution_count": 9,
      "outputs": [
        {
          "output_type": "stream",
          "name": "stdout",
          "text": [
            "6\n"
          ]
        }
      ]
    },
    {
      "cell_type": "markdown",
      "source": [
        "**To reverse a string**"
      ],
      "metadata": {
        "id": "vCxenOrn2uGw"
      }
    },
    {
      "cell_type": "code",
      "source": [
        "def reverse(string):\n",
        "  if len(string) ==0:\n",
        "    return string\n",
        "  return reverse(len(string)-1) + string[0]\n",
        "\n",
        "print(reverse(\"python\"))"
      ],
      "metadata": {
        "colab": {
          "base_uri": "https://localhost:8080/"
        },
        "id": "drBwK4Xy2zAf",
        "outputId": "44d1c478-44c4-4f25-ba8f-bf6741171434"
      },
      "execution_count": 10,
      "outputs": [
        {
          "output_type": "stream",
          "name": "stdout",
          "text": [
            "olleh\n"
          ]
        }
      ]
    }
  ]
}